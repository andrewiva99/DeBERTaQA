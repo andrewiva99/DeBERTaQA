{
 "metadata": {
  "colab": {
   "private_outputs": true,
   "provenance": [],
   "gpuType": "T4",
   "collapsed_sections": [
    "0R8b7qxI30JH",
    "SMPSbMQx39J-",
    "fxwnxvAG46Yf",
    "3g8PuP_M4PIJ"
   ]
  },
  "kernelspec": {
   "name": "python3",
   "display_name": "Python 3",
   "language": "python"
  },
  "language_info": {
   "name": "python",
   "version": "3.10.13",
   "mimetype": "text/x-python",
   "codemirror_mode": {
    "name": "ipython",
    "version": 3
   },
   "pygments_lexer": "ipython3",
   "nbconvert_exporter": "python",
   "file_extension": ".py"
  },
  "accelerator": "GPU",
  "kaggle": {
   "accelerator": "gpu",
   "dataSources": [],
   "dockerImageVersionId": 30733,
   "isInternetEnabled": true,
   "language": "python",
   "sourceType": "notebook",
   "isGpuEnabled": true
  }
 },
 "nbformat_minor": 4,
 "nbformat": 4,
 "cells": [
  {
   "cell_type": "code",
   "source": [
    "%pip install --upgrade transformers datasets accelerate deepspeed\n",
    "%pip install gdown\n",
    "import gdown\n",
    "import torch\n",
    "import torch.nn as nn\n",
    "import torch.nn.functional as F\n",
    "from torch.utils.data import DataLoader\n",
    "from torch.utils.data.dataloader import default_collate\n",
    "import transformers\n",
    "import datasets\n",
    "import numpy as np\n",
    "import math\n",
    "from tqdm import tqdm\n",
    "\n",
    "import matplotlib.pyplot as plt\n",
    "from IPython.display import clear_output\n",
    "from matplotlib.ticker import MaxNLocator"
   ],
   "metadata": {
    "id": "mpA_91MgeFLq",
    "execution": {
     "iopub.status.busy": "2024-08-11T13:20:20.540296Z",
     "iopub.execute_input": "2024-08-11T13:20:20.540735Z",
     "iopub.status.idle": "2024-08-11T13:21:37.128077Z",
     "shell.execute_reply.started": "2024-08-11T13:20:20.540684Z",
     "shell.execute_reply": "2024-08-11T13:21:37.127201Z"
    },
    "trusted": true,
    "pycharm": {
     "name": "#%%\n"
    }
   },
   "execution_count": 1,
   "outputs": [
    {
     "name": "stdout",
     "text": "Requirement already satisfied: transformers in /opt/conda/lib/python3.10/site-packages (4.41.2)\nCollecting transformers\n  Downloading transformers-4.44.0-py3-none-any.whl.metadata (43 kB)\n\u001B[2K     \u001B[90m━━━━━━━━━━━━━━━━━━━━━━━━━━━━━━━━━━━━━━━━\u001B[0m \u001B[32m43.7/43.7 kB\u001B[0m \u001B[31m2.4 MB/s\u001B[0m eta \u001B[36m0:00:00\u001B[0m\n\u001B[?25hRequirement already satisfied: datasets in /opt/conda/lib/python3.10/site-packages (2.19.2)\nCollecting datasets\n  Downloading datasets-2.20.0-py3-none-any.whl.metadata (19 kB)\nRequirement already satisfied: accelerate in /opt/conda/lib/python3.10/site-packages (0.30.1)\nCollecting accelerate\n  Downloading accelerate-0.33.0-py3-none-any.whl.metadata (18 kB)\nCollecting deepspeed\n  Downloading deepspeed-0.14.4.tar.gz (1.3 MB)\n\u001B[2K     \u001B[90m━━━━━━━━━━━━━━━━━━━━━━━━━━━━━━━━━━━━━━━━\u001B[0m \u001B[32m1.3/1.3 MB\u001B[0m \u001B[31m31.1 MB/s\u001B[0m eta \u001B[36m0:00:00\u001B[0m00:01\u001B[0m\n\u001B[?25h  Preparing metadata (setup.py) ... \u001B[?25ldone\n\u001B[?25hRequirement already satisfied: filelock in /opt/conda/lib/python3.10/site-packages (from transformers) (3.13.1)\nRequirement already satisfied: huggingface-hub<1.0,>=0.23.2 in /opt/conda/lib/python3.10/site-packages (from transformers) (0.23.2)\nRequirement already satisfied: numpy>=1.17 in /opt/conda/lib/python3.10/site-packages (from transformers) (1.26.4)\nRequirement already satisfied: packaging>=20.0 in /opt/conda/lib/python3.10/site-packages (from transformers) (21.3)\nRequirement already satisfied: pyyaml>=5.1 in /opt/conda/lib/python3.10/site-packages (from transformers) (6.0.1)\nRequirement already satisfied: regex!=2019.12.17 in /opt/conda/lib/python3.10/site-packages (from transformers) (2023.12.25)\nRequirement already satisfied: requests in /opt/conda/lib/python3.10/site-packages (from transformers) (2.32.3)\nRequirement already satisfied: safetensors>=0.4.1 in /opt/conda/lib/python3.10/site-packages (from transformers) (0.4.3)\nRequirement already satisfied: tokenizers<0.20,>=0.19 in /opt/conda/lib/python3.10/site-packages (from transformers) (0.19.1)\nRequirement already satisfied: tqdm>=4.27 in /opt/conda/lib/python3.10/site-packages (from transformers) (4.66.4)\nCollecting pyarrow>=15.0.0 (from datasets)\n  Downloading pyarrow-17.0.0-cp310-cp310-manylinux_2_28_x86_64.whl.metadata (3.3 kB)\nRequirement already satisfied: pyarrow-hotfix in /opt/conda/lib/python3.10/site-packages (from datasets) (0.6)\nRequirement already satisfied: dill<0.3.9,>=0.3.0 in /opt/conda/lib/python3.10/site-packages (from datasets) (0.3.8)\nRequirement already satisfied: pandas in /opt/conda/lib/python3.10/site-packages (from datasets) (2.2.1)\nRequirement already satisfied: xxhash in /opt/conda/lib/python3.10/site-packages (from datasets) (3.4.1)\nRequirement already satisfied: multiprocess in /opt/conda/lib/python3.10/site-packages (from datasets) (0.70.16)\nRequirement already satisfied: fsspec<=2024.5.0,>=2023.1.0 in /opt/conda/lib/python3.10/site-packages (from fsspec[http]<=2024.5.0,>=2023.1.0->datasets) (2024.3.1)\nRequirement already satisfied: aiohttp in /opt/conda/lib/python3.10/site-packages (from datasets) (3.9.1)\nRequirement already satisfied: psutil in /opt/conda/lib/python3.10/site-packages (from accelerate) (5.9.3)\nRequirement already satisfied: torch>=1.10.0 in /opt/conda/lib/python3.10/site-packages (from accelerate) (2.1.2)\nCollecting hjson (from deepspeed)\n  Downloading hjson-3.1.0-py3-none-any.whl.metadata (2.6 kB)\nRequirement already satisfied: ninja in /opt/conda/lib/python3.10/site-packages (from deepspeed) (1.11.1.1)\nRequirement already satisfied: nvidia-ml-py in /opt/conda/lib/python3.10/site-packages (from deepspeed) (11.495.46)\nRequirement already satisfied: py-cpuinfo in /opt/conda/lib/python3.10/site-packages (from deepspeed) (9.0.0)\nRequirement already satisfied: pydantic in /opt/conda/lib/python3.10/site-packages (from deepspeed) (2.5.3)\nRequirement already satisfied: attrs>=17.3.0 in /opt/conda/lib/python3.10/site-packages (from aiohttp->datasets) (23.2.0)\nRequirement already satisfied: multidict<7.0,>=4.5 in /opt/conda/lib/python3.10/site-packages (from aiohttp->datasets) (6.0.4)\nRequirement already satisfied: yarl<2.0,>=1.0 in /opt/conda/lib/python3.10/site-packages (from aiohttp->datasets) (1.9.3)\nRequirement already satisfied: frozenlist>=1.1.1 in /opt/conda/lib/python3.10/site-packages (from aiohttp->datasets) (1.4.1)\nRequirement already satisfied: aiosignal>=1.1.2 in /opt/conda/lib/python3.10/site-packages (from aiohttp->datasets) (1.3.1)\nRequirement already satisfied: async-timeout<5.0,>=4.0 in /opt/conda/lib/python3.10/site-packages (from aiohttp->datasets) (4.0.3)\nRequirement already satisfied: typing-extensions>=3.7.4.3 in /opt/conda/lib/python3.10/site-packages (from huggingface-hub<1.0,>=0.23.2->transformers) (4.9.0)\nRequirement already satisfied: pyparsing!=3.0.5,>=2.0.2 in /opt/conda/lib/python3.10/site-packages (from packaging>=20.0->transformers) (3.1.1)\nRequirement already satisfied: charset-normalizer<4,>=2 in /opt/conda/lib/python3.10/site-packages (from requests->transformers) (3.3.2)\nRequirement already satisfied: idna<4,>=2.5 in /opt/conda/lib/python3.10/site-packages (from requests->transformers) (3.6)\nRequirement already satisfied: urllib3<3,>=1.21.1 in /opt/conda/lib/python3.10/site-packages (from requests->transformers) (1.26.18)\nRequirement already satisfied: certifi>=2017.4.17 in /opt/conda/lib/python3.10/site-packages (from requests->transformers) (2024.2.2)\nRequirement already satisfied: sympy in /opt/conda/lib/python3.10/site-packages (from torch>=1.10.0->accelerate) (1.12.1)\nRequirement already satisfied: networkx in /opt/conda/lib/python3.10/site-packages (from torch>=1.10.0->accelerate) (3.2.1)\nRequirement already satisfied: jinja2 in /opt/conda/lib/python3.10/site-packages (from torch>=1.10.0->accelerate) (3.1.2)\nRequirement already satisfied: python-dateutil>=2.8.2 in /opt/conda/lib/python3.10/site-packages (from pandas->datasets) (2.9.0.post0)\nRequirement already satisfied: pytz>=2020.1 in /opt/conda/lib/python3.10/site-packages (from pandas->datasets) (2023.3.post1)\nRequirement already satisfied: tzdata>=2022.7 in /opt/conda/lib/python3.10/site-packages (from pandas->datasets) (2023.4)\nRequirement already satisfied: annotated-types>=0.4.0 in /opt/conda/lib/python3.10/site-packages (from pydantic->deepspeed) (0.6.0)\nRequirement already satisfied: pydantic-core==2.14.6 in /opt/conda/lib/python3.10/site-packages (from pydantic->deepspeed) (2.14.6)\nRequirement already satisfied: six>=1.5 in /opt/conda/lib/python3.10/site-packages (from python-dateutil>=2.8.2->pandas->datasets) (1.16.0)\nRequirement already satisfied: MarkupSafe>=2.0 in /opt/conda/lib/python3.10/site-packages (from jinja2->torch>=1.10.0->accelerate) (2.1.3)\nRequirement already satisfied: mpmath<1.4.0,>=1.1.0 in /opt/conda/lib/python3.10/site-packages (from sympy->torch>=1.10.0->accelerate) (1.3.0)\nDownloading transformers-4.44.0-py3-none-any.whl (9.5 MB)\n\u001B[2K   \u001B[90m━━━━━━━━━━━━━━━━━━━━━━━━━━━━━━━━━━━━━━━━\u001B[0m \u001B[32m9.5/9.5 MB\u001B[0m \u001B[31m86.3 MB/s\u001B[0m eta \u001B[36m0:00:00\u001B[0m:00:01\u001B[0m00:01\u001B[0m\n\u001B[?25hDownloading datasets-2.20.0-py3-none-any.whl (547 kB)\n\u001B[2K   \u001B[90m━━━━━━━━━━━━━━━━━━━━━━━━━━━━━━━━━━━━━━━━\u001B[0m \u001B[32m547.8/547.8 kB\u001B[0m \u001B[31m31.8 MB/s\u001B[0m eta \u001B[36m0:00:00\u001B[0m\n\u001B[?25hDownloading accelerate-0.33.0-py3-none-any.whl (315 kB)\n\u001B[2K   \u001B[90m━━━━━━━━━━━━━━━━━━━━━━━━━━━━━━━━━━━━━━━━\u001B[0m \u001B[32m315.1/315.1 kB\u001B[0m \u001B[31m18.7 MB/s\u001B[0m eta \u001B[36m0:00:00\u001B[0m\n\u001B[?25hDownloading pyarrow-17.0.0-cp310-cp310-manylinux_2_28_x86_64.whl (39.9 MB)\n\u001B[2K   \u001B[90m━━━━━━━━━━━━━━━━━━━━━━━━━━━━━━━━━━━━━━━━\u001B[0m \u001B[32m39.9/39.9 MB\u001B[0m \u001B[31m40.4 MB/s\u001B[0m eta \u001B[36m0:00:00\u001B[0m:00:01\u001B[0m00:01\u001B[0m\n\u001B[?25hDownloading hjson-3.1.0-py3-none-any.whl (54 kB)\n\u001B[2K   \u001B[90m━━━━━━━━━━━━━━━━━━━━━━━━━━━━━━━━━━━━━━━━\u001B[0m \u001B[32m54.0/54.0 kB\u001B[0m \u001B[31m3.3 MB/s\u001B[0m eta \u001B[36m0:00:00\u001B[0m\n\u001B[?25hBuilding wheels for collected packages: deepspeed\n  Building wheel for deepspeed (setup.py) ... \u001B[?25ldone\n\u001B[?25h  Created wheel for deepspeed: filename=deepspeed-0.14.4-py3-none-any.whl size=1445501 sha256=4b68adc510a783d9e5ebfc535dde1fcdfa73b8ba9d8da5d767826633972e247d\n  Stored in directory: /root/.cache/pip/wheels/8e/bc/a3/608e90bbb301848b78fd75d24d6d43ba3074de968fc0e397ac\nSuccessfully built deepspeed\nInstalling collected packages: hjson, pyarrow, deepspeed, accelerate, transformers, datasets\n  Attempting uninstall: pyarrow\n    Found existing installation: pyarrow 14.0.2\n    Uninstalling pyarrow-14.0.2:\n      Successfully uninstalled pyarrow-14.0.2\n  Attempting uninstall: accelerate\n    Found existing installation: accelerate 0.30.1\n    Uninstalling accelerate-0.30.1:\n      Successfully uninstalled accelerate-0.30.1\n  Attempting uninstall: transformers\n    Found existing installation: transformers 4.41.2\n    Uninstalling transformers-4.41.2:\n      Successfully uninstalled transformers-4.41.2\n  Attempting uninstall: datasets\n    Found existing installation: datasets 2.19.2\n    Uninstalling datasets-2.19.2:\n      Successfully uninstalled datasets-2.19.2\n\u001B[31mERROR: pip's dependency resolver does not currently take into account all the packages that are installed. This behaviour is the source of the following dependency conflicts.\ncudf 24.4.1 requires cubinlinker, which is not installed.\ncudf 24.4.1 requires cupy-cuda11x>=12.0.0, which is not installed.\ncudf 24.4.1 requires ptxcompiler, which is not installed.\ncuml 24.4.0 requires cupy-cuda11x>=12.0.0, which is not installed.\ndask-cudf 24.4.1 requires cupy-cuda11x>=12.0.0, which is not installed.\napache-beam 2.46.0 requires dill<0.3.2,>=0.3.1.1, but you have dill 0.3.8 which is incompatible.\napache-beam 2.46.0 requires numpy<1.25.0,>=1.14.3, but you have numpy 1.26.4 which is incompatible.\napache-beam 2.46.0 requires pyarrow<10.0.0,>=3.0.0, but you have pyarrow 17.0.0 which is incompatible.\nbeatrix-jupyterlab 2023.128.151533 requires jupyterlab~=3.6.0, but you have jupyterlab 4.2.1 which is incompatible.\ncudf 24.4.1 requires cuda-python<12.0a0,>=11.7.1, but you have cuda-python 12.5.0 which is incompatible.\ncudf 24.4.1 requires pyarrow<15.0.0a0,>=14.0.1, but you have pyarrow 17.0.0 which is incompatible.\nrapids-dask-dependency 24.4.1a0 requires dask==2024.1.1, but you have dask 2024.5.2 which is incompatible.\nrapids-dask-dependency 24.4.1a0 requires dask-expr==0.4.0, but you have dask-expr 1.1.2 which is incompatible.\u001B[0m\u001B[31m\n\u001B[0mSuccessfully installed accelerate-0.33.0 datasets-2.20.0 deepspeed-0.14.4 hjson-3.1.0 pyarrow-17.0.0 transformers-4.44.0\nNote: you may need to restart the kernel to use updated packages.\nCollecting gdown\n  Downloading gdown-5.2.0-py3-none-any.whl.metadata (5.8 kB)\nRequirement already satisfied: beautifulsoup4 in /opt/conda/lib/python3.10/site-packages (from gdown) (4.12.2)\nRequirement already satisfied: filelock in /opt/conda/lib/python3.10/site-packages (from gdown) (3.13.1)\nRequirement already satisfied: requests[socks] in /opt/conda/lib/python3.10/site-packages (from gdown) (2.32.3)\nRequirement already satisfied: tqdm in /opt/conda/lib/python3.10/site-packages (from gdown) (4.66.4)\nRequirement already satisfied: soupsieve>1.2 in /opt/conda/lib/python3.10/site-packages (from beautifulsoup4->gdown) (2.5)\nRequirement already satisfied: charset-normalizer<4,>=2 in /opt/conda/lib/python3.10/site-packages (from requests[socks]->gdown) (3.3.2)\nRequirement already satisfied: idna<4,>=2.5 in /opt/conda/lib/python3.10/site-packages (from requests[socks]->gdown) (3.6)\nRequirement already satisfied: urllib3<3,>=1.21.1 in /opt/conda/lib/python3.10/site-packages (from requests[socks]->gdown) (1.26.18)\nRequirement already satisfied: certifi>=2017.4.17 in /opt/conda/lib/python3.10/site-packages (from requests[socks]->gdown) (2024.2.2)\nRequirement already satisfied: PySocks!=1.5.7,>=1.5.6 in /opt/conda/lib/python3.10/site-packages (from requests[socks]->gdown) (1.7.1)\nDownloading gdown-5.2.0-py3-none-any.whl (18 kB)\nInstalling collected packages: gdown\nSuccessfully installed gdown-5.2.0\nNote: you may need to restart the kernel to use updated packages.\n",
     "output_type": "stream"
    }
   ]
  },
  {
   "cell_type": "code",
   "source": [
    "import random\n",
    "SEED = 10\n",
    "random.seed(SEED)\n",
    "np.random.seed(SEED)\n",
    "torch.random.manual_seed(SEED)\n",
    "torch.cuda.random.manual_seed_all(SEED)"
   ],
   "metadata": {
    "id": "rqkrHyOM0opa",
    "execution": {
     "iopub.status.busy": "2024-08-11T13:21:40.746933Z",
     "iopub.execute_input": "2024-08-11T13:21:40.747243Z",
     "iopub.status.idle": "2024-08-11T13:21:40.755398Z",
     "shell.execute_reply.started": "2024-08-11T13:21:40.747216Z",
     "shell.execute_reply": "2024-08-11T13:21:40.754248Z"
    },
    "trusted": true,
    "pycharm": {
     "name": "#%%\n"
    }
   },
   "execution_count": 3,
   "outputs": []
  },
  {
   "cell_type": "code",
   "source": [
    "def get_computing_device():\n",
    "    if torch.cuda.is_available():\n",
    "        device = torch.device('cuda:0')\n",
    "    else:\n",
    "        device = torch.device('cpu')\n",
    "    return device\n",
    "\n",
    "device = get_computing_device()\n",
    "print(f\"Our main computing device is '{device}'\")"
   ],
   "metadata": {
    "id": "HehnX01ItU-9",
    "execution": {
     "iopub.status.busy": "2024-08-11T13:21:40.757764Z",
     "iopub.execute_input": "2024-08-11T13:21:40.758164Z",
     "iopub.status.idle": "2024-08-11T13:21:40.793377Z",
     "shell.execute_reply.started": "2024-08-11T13:21:40.758136Z",
     "shell.execute_reply": "2024-08-11T13:21:40.792203Z"
    },
    "trusted": true,
    "pycharm": {
     "name": "#%%\n"
    }
   },
   "execution_count": 4,
   "outputs": [
    {
     "name": "stdout",
     "text": "Our main computing device is 'cuda:0'\n",
     "output_type": "stream"
    }
   ]
  },
  {
   "cell_type": "markdown",
   "source": [
    "# Deberta"
   ],
   "metadata": {
    "id": "SMPSbMQx39J-",
    "pycharm": {
     "name": "#%% md\n"
    }
   }
  },
  {
   "cell_type": "code",
   "source": [
    "class DebertaEmbeddings(nn.Module):\n",
    "  def __init__(self, config):\n",
    "    super(DebertaEmbeddings, self).__init__()\n",
    "\n",
    "    self.vocab_size = config.vocab_size\n",
    "    self.embedding_size = getattr(config, 'embedding_size', config.hidden_size)\n",
    "\n",
    "    self.word_embeddings = nn.Embedding(self.vocab_size, self.embedding_size,\n",
    "                                        padding_idx=config.pad_token_id)\n",
    "\n",
    "    self.type_vocab_size = config.type_vocab_size\n",
    "\n",
    "    if self.type_vocab_size > 0:\n",
    "      self.token_type_embeddings = nn.Embedding(self.type_vocab_size,\n",
    "                                                self.embedding_size)\n",
    "\n",
    "    self.LayerNorm = nn.LayerNorm(self.embedding_size, config.layer_norm_eps)\n",
    "    self.dropout = nn.Dropout(config.hidden_dropout_prob)\n",
    "\n",
    "  def forward(self, input_ids, token_type_ids=None, mask = None):\n",
    "    embeddings = self.word_embeddings(input_ids)\n",
    "\n",
    "    if token_type_ids is None:\n",
    "      token_type_ids = torch.zeros_like(input_ids)\n",
    "\n",
    "    if self.type_vocab_size > 0:\n",
    "      token_type_embeddings = self.token_type_embeddings(token_type_ids)\n",
    "      embeddings += token_type_embeddings\n",
    "\n",
    "    mask = mask.unsqueeze(-1)\n",
    "\n",
    "    embeddings = embeddings * mask\n",
    "    embeddings = self.LayerNorm(embeddings)\n",
    "    embeddings = self.dropout(embeddings)\n",
    "\n",
    "    return embeddings\n",
    "\n",
    "class DebertaSelfOutput(nn.Module):\n",
    "  def __init__(self, config):\n",
    "    super().__init__()\n",
    "\n",
    "    self.hidden_size = config.hidden_size\n",
    "    self.layer_norm_eps = config.layer_norm_eps\n",
    "    self.hidden_dropout_prob = config.hidden_dropout_prob\n",
    "\n",
    "    self.dense = nn.Linear(self.hidden_size, self.hidden_size)\n",
    "    self.LayerNorm = nn.LayerNorm(self.hidden_size, self.layer_norm_eps)\n",
    "    self.dropout = nn.Dropout(self.hidden_dropout_prob)\n",
    "\n",
    "  def forward(self, hidden_states, input_states):\n",
    "    hidden_states = self.dense(hidden_states)\n",
    "    hidden_states = self.dropout(hidden_states)\n",
    "    hidden_states += input_states\n",
    "    hidden_states = self.LayerNorm(hidden_states)\n",
    "\n",
    "    return hidden_states\n",
    "\n",
    "class DebertaIntermediate(nn.Module):\n",
    "  def __init__(self, config):\n",
    "    super().__init__()\n",
    "\n",
    "    self.dense = nn.Linear(config.hidden_size, config.intermediate_size)\n",
    "    self.intermediate_act_fn = nn.GELU()\n",
    "\n",
    "  def forward(self, hidden_states):\n",
    "    hidden_states = self.dense(hidden_states)\n",
    "    hidden_states = self.intermediate_act_fn(hidden_states)\n",
    "\n",
    "    return hidden_states\n",
    "\n",
    "class DebertaOutput(nn.Module):\n",
    "  def __init__(self, config):\n",
    "    super(DebertaOutput, self).__init__()\n",
    "\n",
    "    self.hidden_size = config.hidden_size\n",
    "    self.intermediate_size = config.intermediate_size\n",
    "    self.hidden_dropout_prob = config.hidden_dropout_prob\n",
    "    self.layer_norm_eps = config.layer_norm_eps\n",
    "\n",
    "    self.dense = nn.Linear(self.intermediate_size, self.hidden_size)\n",
    "    self.LayerNorm = nn.LayerNorm(self.hidden_size, self.layer_norm_eps)\n",
    "    self.dropout = nn.Dropout(self.hidden_dropout_prob)\n",
    "\n",
    "  def forward(self, hidden_states, input_states):\n",
    "    hidden_states = self.dense(hidden_states)\n",
    "    hidden_states = self.dropout(hidden_states)\n",
    "    hidden_states +=  input_states\n",
    "    hidden_states = self.LayerNorm(hidden_states)\n",
    "\n",
    "    return hidden_states\n",
    "\n",
    "class DisentangledSelfAttention(nn.Module):\n",
    "  def __init__(self, config):\n",
    "    super().__init__()\n",
    "\n",
    "    self.hidden_size = config.hidden_size\n",
    "    self.num_attention_heads = config.num_attention_heads\n",
    "    self.head_size = int(self.hidden_size/self.num_attention_heads)\n",
    "\n",
    "    self.query_proj = nn.Linear(self.hidden_size, self.hidden_size, bias=True)\n",
    "    self.key_proj = nn.Linear(self.hidden_size, self.hidden_size, bias=False)\n",
    "    self.value_proj = nn.Linear(self.hidden_size, self.hidden_size, bias=True)\n",
    "\n",
    "    self.pos_proj = nn.Linear(self.hidden_size, self.hidden_size, bias=False)\n",
    "    self.pos_q_proj = nn.Linear(self.hidden_size, self.hidden_size)\n",
    "\n",
    "    self.pos_dropout = nn.Dropout(config.hidden_dropout_prob)\n",
    "    self.dropout = nn.Dropout(config.attention_probs_dropout_prob)\n",
    "\n",
    "  def reshape_states(self, x, size):\n",
    "\n",
    "    return x.view(*x.shape[:-1], self.num_attention_heads, size).transpose(-2, -3)\n",
    "\n",
    "  def forward(self, hidden_states, attention_mask, relative_pos, rel_embeddings, query_states=None):\n",
    "\n",
    "    \"\"\"\n",
    "    param hidden_states: exit from the previous layer, float32[batch_size, seq_length, hidden_size]\n",
    "    param attention_mask: bool[batch_size, 1, seq_length, seq_length]\n",
    "    param relative_pos: relative distance matrix, int64[seq_length, seq_length]\n",
    "    param rel_embeddings: relative position embedding vectors, float32[2*position_buckets, hidden_size]\n",
    "    param query_states: information for decoding (e.g. hidden states, absolute position embedding\n",
    "    or output from the previous ENHANCED MASK DECODER layer), float32[batch_size, seq_length, hidden_size]\n",
    "    \"\"\"\n",
    "\n",
    "    if query_states is None:\n",
    "      query_states = hidden_states\n",
    "\n",
    "    query = self.query_proj(query_states) #[batch_size, num_heads, seq_len, head_size]\n",
    "    key = self.key_proj(hidden_states)\n",
    "    value =  self.value_proj(hidden_states)\n",
    "\n",
    "    query, key, value =  self.reshape_states(torch.cat((query, key, value), dim=-1), 3*self.head_size).split(self.head_size, dim=-1)\n",
    "\n",
    "    rel_embeddings = self.pos_dropout(rel_embeddings)\n",
    "    pos_query = self.reshape_states(self.pos_q_proj(rel_embeddings), self.head_size)  #[num_heads, 2*position_buckets, head_size]\n",
    "    pos_key = self.reshape_states(self.pos_proj(rel_embeddings), self.head_size)\n",
    "\n",
    "    #context to context score\n",
    "    c2c_score = query @ key.transpose(-1, -2)  #[batch_size, num_heads, seq_len, seq_len]\n",
    "\n",
    "    #context to position score\n",
    "    c2p_score = query @ pos_key.transpose(-1, -2)  #[batch_size, num_heads, seq_len, 2*position_buckets]\n",
    "    c2p_pos = relative_pos.expand(*c2p_score.size()[:2], -1, -1)\n",
    "    c2p_score = torch.gather(c2p_score, dim=-1, index = c2p_pos)\n",
    "\n",
    "    #position to context score\n",
    "    p2c_score = key @ pos_query.transpose(-1, -2)\n",
    "    p2c_score = torch.gather(p2c_score, dim=-1, index = c2p_pos.transpose(-1, -2))\n",
    "    p2c_score = p2c_score.transpose(-1, -2)\n",
    "\n",
    "    #accamulate attention scores\n",
    "    scale_factor = 1/math.sqrt(query.size(-1) * 3)\n",
    "    score = (c2c_score + c2p_score + p2c_score) * scale_factor\n",
    "\n",
    "    mask = ~(attention_mask)  #we do not pay attention to invalid tokens\n",
    "    score = score.masked_fill(mask, float('-inf'))\n",
    "    score = torch.softmax(score, dim = -1)\n",
    "    score = score.masked_fill(mask, 0)\n",
    "    score = self.dropout(score)\n",
    "    score = score @ value\n",
    "    score = score.transpose(1, 2)\n",
    "    score_shape = score.shape\n",
    "\n",
    "    hidden_states = score.reshape(*score_shape[:-2], score_shape[-2] * score_shape[-1])\n",
    "\n",
    "    return hidden_states\n",
    "\n",
    "class DebertaAttention(nn.Module):\n",
    "  def __init__(self, config):\n",
    "    super().__init__()\n",
    "\n",
    "    self.self = DisentangledSelfAttention(config)\n",
    "    self.output = DebertaSelfOutput(config)\n",
    "\n",
    "  def forward(self, hidden_states, attention_mask, relative_pos, rel_embeddings, query_states=None):\n",
    "\n",
    "    input_states = hidden_states\n",
    "\n",
    "    hidden_states = self.self(hidden_states, attention_mask, relative_pos, rel_embeddings, query_states)\n",
    "\n",
    "    attention_output = self.output(hidden_states, input_states)\n",
    "\n",
    "    return attention_output\n",
    "\n",
    "class DebertaLayer(nn.Module):\n",
    "  def __init__(self, config):\n",
    "    super(DebertaLayer, self).__init__()\n",
    "\n",
    "    self.attention = DebertaAttention(config)\n",
    "    self.intermediate = DebertaIntermediate(config)\n",
    "    self.output = DebertaOutput(config)\n",
    "\n",
    "  def forward(self, hidden_states, attention_mask, relative_pos, rel_embeddings, query_states=None):\n",
    "\n",
    "    attention_output = self.attention(hidden_states, attention_mask, relative_pos, rel_embeddings, query_states)\n",
    "    intermediate_output = self.intermediate(attention_output)\n",
    "    output = self.output(intermediate_output, attention_output)\n",
    "\n",
    "    return output\n",
    "\n",
    "class DebertaEncoder(nn.Module):\n",
    "  def __init__(self, config):\n",
    "    super().__init__()\n",
    "\n",
    "    self.layer = nn.ModuleList([DebertaLayer(config) for _ in range(config.num_hidden_layers)])\n",
    "    self.pos_ebd_size = config.max_position_embeddings\n",
    "    self.hidden_size = config.hidden_size\n",
    "\n",
    "    self.rel_embeddings = nn.Embedding(self.pos_ebd_size * 2, self.hidden_size)\n",
    "\n",
    "  def get_attention_mask(self, attention_mask):\n",
    "    ext_attention_mask = attention_mask.unsqueeze(-1).to(torch.float)\n",
    "    ext_attention_mask = ext_attention_mask @ ext_attention_mask.transpose(-1, -2)\n",
    "    return ext_attention_mask.unsqueeze(1).to(torch.bool)\n",
    "\n",
    "  def create_distance_matrix(self, seq_len: int, max_distance: int):\n",
    "    indices = torch.arange(seq_len)\n",
    "    indices_t = indices.unsqueeze(-1)\n",
    "    diff_indcs = indices_t - indices\n",
    "    dis_mat = diff_indcs\n",
    "    k = max_distance\n",
    "\n",
    "    dis_mat[diff_indcs >= k] = 2 * k - 1\n",
    "    dis_mat[torch.logical_and(-k < diff_indcs, diff_indcs < k)] += k\n",
    "    dis_mat[diff_indcs <= -k] = 0\n",
    "\n",
    "    return dis_mat.to(torch.int64)\n",
    "\n",
    "  def forward(self, hidden_states, attention_mask, query_states = None, relative_pos=None):\n",
    "\n",
    "    rel_embeddings = self.rel_embeddings.weight\n",
    "    attention_mask = self.get_attention_mask(attention_mask)\n",
    "    relative_pos = self.create_distance_matrix(hidden_states.shape[1],\n",
    "                                               self.pos_ebd_size).to(hidden_states.device)\n",
    "\n",
    "    for layer in self.layer:\n",
    "      output_states = layer(hidden_states, attention_mask, relative_pos, rel_embeddings, query_states)\n",
    "      hidden_states = output_states\n",
    "      if query_states is not None:\n",
    "        query_states = output_states\n",
    "\n",
    "    return hidden_states\n",
    "\n",
    "class DebertaModel(nn.Module):\n",
    "  def __init__(self, config):\n",
    "    super().__init__()\n",
    "\n",
    "    self.embeddings = DebertaEmbeddings(config)\n",
    "    self.encoder = DebertaEncoder(config)\n",
    "\n",
    "  def forward(self, input_ids, attention_mask, token_type_ids = None):\n",
    "\n",
    "    embeddings = self.embeddings(input_ids, token_type_ids, attention_mask)\n",
    "    encoder_output = self.encoder(embeddings, attention_mask)\n",
    "\n",
    "    return encoder_output"
   ],
   "metadata": {
    "id": "U17fWdfj4AJ_",
    "execution": {
     "iopub.status.busy": "2024-08-11T13:21:40.794894Z",
     "iopub.execute_input": "2024-08-11T13:21:40.795207Z",
     "iopub.status.idle": "2024-08-11T13:21:40.861188Z",
     "shell.execute_reply.started": "2024-08-11T13:21:40.795182Z",
     "shell.execute_reply": "2024-08-11T13:21:40.860060Z"
    },
    "trusted": true,
    "pycharm": {
     "name": "#%%\n"
    }
   },
   "execution_count": 5,
   "outputs": []
  },
  {
   "cell_type": "code",
   "source": [
    "pre_config = transformers.PretrainedConfig()\n",
    "config = pre_config.from_json_file('deberta_config.json')"
   ],
   "metadata": {
    "id": "de4Q-UKL4UG6",
    "execution": {
     "iopub.status.busy": "2024-08-11T13:21:40.862741Z",
     "iopub.execute_input": "2024-08-11T13:21:40.863090Z",
     "iopub.status.idle": "2024-08-11T13:21:40.933544Z",
     "shell.execute_reply.started": "2024-08-11T13:21:40.863062Z",
     "shell.execute_reply": "2024-08-11T13:21:40.932664Z"
    },
    "trusted": true,
    "pycharm": {
     "name": "#%%\n"
    }
   },
   "execution_count": 6,
   "outputs": []
  },
  {
   "cell_type": "code",
   "source": [
    "deberta = DebertaModel(config).to(device)"
   ],
   "metadata": {
    "id": "pVAHHWd_4anr",
    "execution": {
     "iopub.status.busy": "2024-08-11T13:21:40.935041Z",
     "iopub.execute_input": "2024-08-11T13:21:40.935903Z",
     "iopub.status.idle": "2024-08-11T13:21:42.712555Z",
     "shell.execute_reply.started": "2024-08-11T13:21:40.935871Z",
     "shell.execute_reply": "2024-08-11T13:21:42.711535Z"
    },
    "trusted": true,
    "pycharm": {
     "name": "#%%\n"
    }
   },
   "execution_count": 7,
   "outputs": []
  },
  {
   "cell_type": "code",
   "source": [
    "pretrained_deberta = transformers.AutoModel.from_pretrained('microsoft/deberta-base')\n",
    "\n",
    "from collections import OrderedDict\n",
    "state_dict = pretrained_deberta.state_dict()\n",
    "\n",
    "new_state_dict = OrderedDict()\n",
    "for key, value in tuple(state_dict.items()):\n",
    "  if 'deberta.' in key:\n",
    "    key = key.replace('deberta.', \"\")\n",
    "  if 'q_bias' in key:\n",
    "    key = key.replace('q_bias', 'query_proj.bias')\n",
    "  if 'v_bias' in key:\n",
    "    key = key.replace('v_bias', 'value_proj.bias')\n",
    "  if 'in_proj' in key:\n",
    "    q, k, v = value.split(config.hidden_size, dim=-2)\n",
    "    key_q = key.replace('in_proj', 'query_proj')\n",
    "    key_k = key.replace('in_proj', 'key_proj')\n",
    "    key_v = key.replace('in_proj', 'value_proj')\n",
    "\n",
    "    new_state_dict[key_q] = q\n",
    "    new_state_dict[key_k] = k\n",
    "    new_state_dict[key_v] = v\n",
    "    continue\n",
    "  new_state_dict[key] = value\n",
    "\n",
    "del pretrained_deberta"
   ],
   "metadata": {
    "execution": {
     "iopub.status.busy": "2024-08-11T13:21:42.713865Z",
     "iopub.execute_input": "2024-08-11T13:21:42.714244Z",
     "iopub.status.idle": "2024-08-11T13:21:46.229715Z",
     "shell.execute_reply.started": "2024-08-11T13:21:42.714206Z",
     "shell.execute_reply": "2024-08-11T13:21:46.228644Z"
    },
    "trusted": true,
    "pycharm": {
     "name": "#%%\n"
    }
   },
   "execution_count": 8,
   "outputs": [
    {
     "output_type": "display_data",
     "data": {
      "text/plain": "config.json:   0%|          | 0.00/474 [00:00<?, ?B/s]",
      "application/vnd.jupyter.widget-view+json": {
       "version_major": 2,
       "version_minor": 0,
       "model_id": "16395e8b6a9c439b9ac91ffdcea45d64"
      }
     },
     "metadata": {}
    },
    {
     "output_type": "display_data",
     "data": {
      "text/plain": "pytorch_model.bin:   0%|          | 0.00/559M [00:00<?, ?B/s]",
      "application/vnd.jupyter.widget-view+json": {
       "version_major": 2,
       "version_minor": 0,
       "model_id": "7dd869c092084a9ebba112a5fc42b7ea"
      }
     },
     "metadata": {}
    },
    {
     "name": "stderr",
     "text": "/opt/conda/lib/python3.10/site-packages/torch/_utils.py:831: UserWarning: TypedStorage is deprecated. It will be removed in the future and UntypedStorage will be the only storage class. This should only matter to you if you are using storages directly.  To access UntypedStorage directly, use tensor.untyped_storage() instead of tensor.storage()\n  return self.fget.__get__(instance, owner)()\n",
     "output_type": "stream"
    }
   ]
  },
  {
   "cell_type": "code",
   "source": [
    "deberta.load_state_dict(new_state_dict)\n",
    "\n",
    "for i, param in enumerate(deberta.parameters()):\n",
    "    param.requires_grad = False\n",
    "\n",
    "print(\"Total trainable params: \", sum(p.numel() for p in deberta.parameters() if p.requires_grad))"
   ],
   "metadata": {
    "id": "hfZh7OHL4kN6",
    "execution": {
     "iopub.status.busy": "2024-08-11T13:21:46.230926Z",
     "iopub.execute_input": "2024-08-11T13:21:46.231213Z",
     "iopub.status.idle": "2024-08-11T13:21:46.407970Z",
     "shell.execute_reply.started": "2024-08-11T13:21:46.231189Z",
     "shell.execute_reply": "2024-08-11T13:21:46.406643Z"
    },
    "trusted": true,
    "pycharm": {
     "name": "#%%\n"
    }
   },
   "execution_count": 9,
   "outputs": [
    {
     "name": "stdout",
     "text": "Total trainable params:  0\n",
     "output_type": "stream"
    }
   ]
  },
  {
   "cell_type": "markdown",
   "source": [
    "# Add LoRa"
   ],
   "metadata": {
    "id": "fxwnxvAG46Yf",
    "pycharm": {
     "name": "#%% md\n"
    }
   }
  },
  {
   "cell_type": "code",
   "source": [
    "class LoRALayer(nn.Module):\n",
    "    def __init__(self, module:nn.Linear, rank):\n",
    "        super().__init__()\n",
    "\n",
    "        self.module = module\n",
    "\n",
    "        self.adapter_A = nn.Parameter(torch.rand(module.in_features, rank, device = module.weight.device))\n",
    "        self.adapter_B = nn.Parameter(torch.zeros(rank, module.out_features, device = module.weight.device))\n",
    "\n",
    "    def forward(self, input):\n",
    "        return self.module(input) + (input @ self.adapter_A) @ self.adapter_B"
   ],
   "metadata": {
    "id": "SWMvrHJj5CU0",
    "execution": {
     "iopub.status.busy": "2024-08-11T13:21:46.413806Z",
     "iopub.execute_input": "2024-08-11T13:21:46.414235Z",
     "iopub.status.idle": "2024-08-11T13:21:46.424422Z",
     "shell.execute_reply.started": "2024-08-11T13:21:46.414195Z",
     "shell.execute_reply": "2024-08-11T13:21:46.423083Z"
    },
    "trusted": true,
    "pycharm": {
     "name": "#%%\n"
    }
   },
   "execution_count": 10,
   "outputs": []
  },
  {
   "cell_type": "code",
   "source": [
    "lora_rank = 32\n",
    "\n",
    "for layer_name, module in deberta.named_modules():\n",
    "    if 'DebertaAttention' in repr(type(module)):\n",
    "        module.self.query_proj = LoRALayer(module.self.query_proj, lora_rank)\n",
    "        module.self.key_proj = LoRALayer(module.self.key_proj, lora_rank)\n",
    "        module.self.value_proj = LoRALayer(module.self.value_proj, lora_rank)\n",
    "\n",
    "assert sum(isinstance(module, LoRALayer) for module in deberta.modules()) == 12*3"
   ],
   "metadata": {
    "id": "92pJSNOk5Ute",
    "execution": {
     "iopub.status.busy": "2024-08-11T13:21:46.425692Z",
     "iopub.execute_input": "2024-08-11T13:21:46.426096Z",
     "iopub.status.idle": "2024-08-11T13:21:46.501275Z",
     "shell.execute_reply.started": "2024-08-11T13:21:46.426060Z",
     "shell.execute_reply": "2024-08-11T13:21:46.500245Z"
    },
    "trusted": true,
    "pycharm": {
     "name": "#%%\n"
    }
   },
   "execution_count": 11,
   "outputs": []
  },
  {
   "cell_type": "markdown",
   "source": [
    "# Q&A Deberta"
   ],
   "metadata": {
    "id": "3g8PuP_M4PIJ",
    "pycharm": {
     "name": "#%% md\n"
    }
   }
  },
  {
   "cell_type": "code",
   "source": [
    "class DebertaQA(nn.Module):\n",
    "  def __init__(self, deberta, deberta_config):\n",
    "    super().__init__()\n",
    "\n",
    "    hidden_size = deberta_config.hidden_size\n",
    "    self.deberta = deberta\n",
    "    self.gelu = nn.GELU()\n",
    "\n",
    "    self.linear1 = nn.Linear(hidden_size, 2)\n",
    "\n",
    "  def forward(self, input_ids, token_type_ids, attention_mask):\n",
    "    res = self.deberta(input_ids = input_ids,\n",
    "                       token_type_ids = token_type_ids,\n",
    "                       attention_mask = attention_mask)\n",
    "\n",
    "    res = self.gelu(res)\n",
    "    res = self.linear1(res)\n",
    "\n",
    "    start, end = torch.split(res, 1, dim = -1)\n",
    "\n",
    "    return start.squeeze(-1), end.squeeze(-1)"
   ],
   "metadata": {
    "id": "15WVyvcZNelR",
    "execution": {
     "iopub.status.busy": "2024-08-11T13:21:46.502655Z",
     "iopub.execute_input": "2024-08-11T13:21:46.503374Z",
     "iopub.status.idle": "2024-08-11T13:21:46.513249Z",
     "shell.execute_reply.started": "2024-08-11T13:21:46.503335Z",
     "shell.execute_reply": "2024-08-11T13:21:46.512103Z"
    },
    "trusted": true,
    "pycharm": {
     "name": "#%%\n"
    }
   },
   "execution_count": 12,
   "outputs": []
  },
  {
   "cell_type": "code",
   "source": [
    "def compute_loss(start_logits, end_logits, start_pos, end_pos, loss_with_logits):\n",
    "\n",
    "  num_cls = start_logits.shape[1]\n",
    "  start_gt = F.one_hot(start_pos, num_classes = num_cls)\n",
    "  end_gt = F.one_hot(end_pos, num_classes = num_cls)\n",
    "\n",
    "  start_loss = loss_with_logits(start_logits, start_gt.float())\n",
    "  end_loss = loss_with_logits(end_logits, end_gt.float())\n",
    "\n",
    "  return (start_loss + end_loss)/2"
   ],
   "metadata": {
    "id": "3ihAXYDHiWnW",
    "execution": {
     "iopub.status.busy": "2024-08-11T13:21:46.514968Z",
     "iopub.execute_input": "2024-08-11T13:21:46.515308Z",
     "iopub.status.idle": "2024-08-11T13:21:46.559449Z",
     "shell.execute_reply.started": "2024-08-11T13:21:46.515279Z",
     "shell.execute_reply": "2024-08-11T13:21:46.558268Z"
    },
    "trusted": true,
    "pycharm": {
     "name": "#%%\n"
    }
   },
   "execution_count": 13,
   "outputs": []
  },
  {
   "cell_type": "code",
   "source": [
    "def BCEWithLogits(pred, target):\n",
    "  res = -F.log_softmax(pred, dim=-1)\n",
    "  res *= target\n",
    "  res = torch.sum(res)/len(pred)\n",
    "  return res"
   ],
   "metadata": {
    "id": "9aFcRDUO3cpw",
    "execution": {
     "iopub.status.busy": "2024-08-11T13:21:46.560882Z",
     "iopub.execute_input": "2024-08-11T13:21:46.561319Z",
     "iopub.status.idle": "2024-08-11T13:21:46.607027Z",
     "shell.execute_reply.started": "2024-08-11T13:21:46.561276Z",
     "shell.execute_reply": "2024-08-11T13:21:46.605659Z"
    },
    "trusted": true,
    "pycharm": {
     "name": "#%%\n"
    }
   },
   "execution_count": 14,
   "outputs": []
  },
  {
   "cell_type": "code",
   "source": [
    "def f1_score(pred_ans, target_ans):\n",
    "  \"\"\"\n",
    "  pred_ans: list - prediction answer tokens\n",
    "  target_ans: list - correct answer tokens\n",
    "  \"\"\"\n",
    "  epsilon = 1e-6\n",
    "\n",
    "  num_same = len(set(pred_ans) & set(target_ans))\n",
    "  len_pred = len(pred_ans)\n",
    "  len_target = len(target_ans)\n",
    "\n",
    "\n",
    "  if len_pred == 0 or len_target == 0:\n",
    "    f1 = int(len_pred == len_target)\n",
    "  else:\n",
    "    precision = num_same / len_pred\n",
    "    recall = num_same / len_target\n",
    "\n",
    "    f1 = 2 * precision * recall / (precision + recall + epsilon)\n",
    "\n",
    "  return f1"
   ],
   "metadata": {
    "id": "CUm-X6m4bTLn",
    "execution": {
     "iopub.status.busy": "2024-08-11T13:21:46.608687Z",
     "iopub.execute_input": "2024-08-11T13:21:46.609800Z",
     "iopub.status.idle": "2024-08-11T13:21:46.650678Z",
     "shell.execute_reply.started": "2024-08-11T13:21:46.609672Z",
     "shell.execute_reply": "2024-08-11T13:21:46.649484Z"
    },
    "trusted": true,
    "pycharm": {
     "name": "#%%\n"
    }
   },
   "execution_count": 15,
   "outputs": []
  },
  {
   "cell_type": "code",
   "source": [
    "def compute_score(input_ids, start_logits, end_logits, start_pos, end_pos, score):\n",
    "  start_pred = torch.argmax(start_logits, dim = -1).squeeze(0)\n",
    "  end_pred = torch.argmax(end_logits, dim = -1).squeeze(0)\n",
    "\n",
    "  batch_size = len(input_ids)\n",
    "\n",
    "  total_score = 0\n",
    "\n",
    "  for i in range(batch_size):\n",
    "    predict_ids = input_ids[i][start_pred[i]:end_pred[i]+1]\n",
    "    gt_ids = input_ids[i][start_pos[i]:end_pos[i]+1]\n",
    "\n",
    "    total_score += score(predict_ids.tolist(), gt_ids.tolist())\n",
    "\n",
    "  return total_score/batch_size"
   ],
   "metadata": {
    "id": "sxFMuX1wEY7l",
    "execution": {
     "iopub.status.busy": "2024-08-11T13:21:46.652183Z",
     "iopub.execute_input": "2024-08-11T13:21:46.652559Z",
     "iopub.status.idle": "2024-08-11T13:21:46.693186Z",
     "shell.execute_reply.started": "2024-08-11T13:21:46.652529Z",
     "shell.execute_reply": "2024-08-11T13:21:46.691860Z"
    },
    "trusted": true,
    "pycharm": {
     "name": "#%%\n"
    }
   },
   "execution_count": 16,
   "outputs": []
  },
  {
   "cell_type": "markdown",
   "source": [
    "# Loading and processing data"
   ],
   "metadata": {
    "id": "0R8b7qxI30JH",
    "pycharm": {
     "name": "#%% md\n"
    }
   }
  },
  {
   "cell_type": "code",
   "source": [
    "model_name = \"microsoft/deberta-base\"\n",
    "tokenizer = transformers.AutoTokenizer.from_pretrained(model_name)"
   ],
   "metadata": {
    "id": "yhOIxIuIesCO",
    "execution": {
     "iopub.status.busy": "2024-08-11T13:21:46.694781Z",
     "iopub.execute_input": "2024-08-11T13:21:46.695230Z",
     "iopub.status.idle": "2024-08-11T13:21:48.066722Z",
     "shell.execute_reply.started": "2024-08-11T13:21:46.695186Z",
     "shell.execute_reply": "2024-08-11T13:21:48.065739Z"
    },
    "trusted": true,
    "pycharm": {
     "name": "#%%\n"
    }
   },
   "execution_count": 17,
   "outputs": [
    {
     "output_type": "display_data",
     "data": {
      "text/plain": "tokenizer_config.json:   0%|          | 0.00/52.0 [00:00<?, ?B/s]",
      "application/vnd.jupyter.widget-view+json": {
       "version_major": 2,
       "version_minor": 0,
       "model_id": "271f42bf87fe4e2aae9a2c9d6a4fb51e"
      }
     },
     "metadata": {}
    },
    {
     "output_type": "display_data",
     "data": {
      "text/plain": "vocab.json:   0%|          | 0.00/899k [00:00<?, ?B/s]",
      "application/vnd.jupyter.widget-view+json": {
       "version_major": 2,
       "version_minor": 0,
       "model_id": "9db913f945524526be2a8d6863328618"
      }
     },
     "metadata": {}
    },
    {
     "output_type": "display_data",
     "data": {
      "text/plain": "merges.txt:   0%|          | 0.00/456k [00:00<?, ?B/s]",
      "application/vnd.jupyter.widget-view+json": {
       "version_major": 2,
       "version_minor": 0,
       "model_id": "893afaf4736443138e23d53b37f22d62"
      }
     },
     "metadata": {}
    },
    {
     "name": "stderr",
     "text": "/opt/conda/lib/python3.10/site-packages/transformers/tokenization_utils_base.py:1601: FutureWarning: `clean_up_tokenization_spaces` was not set. It will be set to `True` by default. This behavior will be depracted in transformers v4.45, and will be then set to `False` by default. For more details check this issue: https://github.com/huggingface/transformers/issues/31884\n  warnings.warn(\n",
     "output_type": "stream"
    }
   ]
  },
  {
   "cell_type": "code",
   "source": [
    "from datasets import load_dataset\n",
    "squad_train = load_dataset(\"squad\", split=\"train[0:10000]\")\n",
    "squad_test = load_dataset(\"squad\", split=\"validation[:1000]\")"
   ],
   "metadata": {
    "id": "wAdXDvDbq3Je",
    "execution": {
     "iopub.status.busy": "2024-08-11T13:21:48.068064Z",
     "iopub.execute_input": "2024-08-11T13:21:48.068441Z",
     "iopub.status.idle": "2024-08-11T13:21:56.177086Z",
     "shell.execute_reply.started": "2024-08-11T13:21:48.068408Z",
     "shell.execute_reply": "2024-08-11T13:21:56.176200Z"
    },
    "trusted": true,
    "pycharm": {
     "name": "#%%\n"
    }
   },
   "execution_count": 18,
   "outputs": [
    {
     "output_type": "display_data",
     "data": {
      "text/plain": "Downloading readme:   0%|          | 0.00/7.62k [00:00<?, ?B/s]",
      "application/vnd.jupyter.widget-view+json": {
       "version_major": 2,
       "version_minor": 0,
       "model_id": "1b0fbe4789aa4cf59773a864bd9a6ebd"
      }
     },
     "metadata": {}
    },
    {
     "output_type": "display_data",
     "data": {
      "text/plain": "Downloading data:   0%|          | 0.00/14.5M [00:00<?, ?B/s]",
      "application/vnd.jupyter.widget-view+json": {
       "version_major": 2,
       "version_minor": 0,
       "model_id": "4975be6a22364510a9b72bdead655046"
      }
     },
     "metadata": {}
    },
    {
     "output_type": "display_data",
     "data": {
      "text/plain": "Downloading data:   0%|          | 0.00/1.82M [00:00<?, ?B/s]",
      "application/vnd.jupyter.widget-view+json": {
       "version_major": 2,
       "version_minor": 0,
       "model_id": "84f2edd9090e4b8caad20f6e0b2ab5bf"
      }
     },
     "metadata": {}
    },
    {
     "output_type": "display_data",
     "data": {
      "text/plain": "Generating train split:   0%|          | 0/87599 [00:00<?, ? examples/s]",
      "application/vnd.jupyter.widget-view+json": {
       "version_major": 2,
       "version_minor": 0,
       "model_id": "2f2d643bedf94fd4ba43837f601e1e6a"
      }
     },
     "metadata": {}
    },
    {
     "output_type": "display_data",
     "data": {
      "text/plain": "Generating validation split:   0%|          | 0/10570 [00:00<?, ? examples/s]",
      "application/vnd.jupyter.widget-view+json": {
       "version_major": 2,
       "version_minor": 0,
       "model_id": "f151bdbc932142a586ea12fefce5f5e5"
      }
     },
     "metadata": {}
    }
   ]
  },
  {
   "cell_type": "code",
   "source": [
    "def preprocess_function(examples):\n",
    "    questions = [q.strip() for q in examples[\"question\"]]\n",
    "    inputs = tokenizer(\n",
    "        questions,\n",
    "        examples[\"context\"],\n",
    "        max_length=384,\n",
    "        truncation=\"only_second\",\n",
    "        return_offsets_mapping=True, # (start, end) - начало и конец токена в тексте\n",
    "        padding=\"max_length\",\n",
    "    )\n",
    "\n",
    "    offset_mapping = inputs.pop(\"offset_mapping\")\n",
    "    answers = examples[\"answers\"]\n",
    "    start_positions = []\n",
    "    end_positions = []\n",
    "\n",
    "    for i, offset in enumerate(offset_mapping):\n",
    "        answer = answers[i]\n",
    "        start_char = answer[\"answer_start\"][0]\n",
    "        end_char = answer[\"answer_start\"][0] + len(answer[\"text\"][0])\n",
    "        sequence_ids = inputs.sequence_ids(i)\n",
    "\n",
    "        # Find the start and end of the context\n",
    "        idx = 0\n",
    "        while sequence_ids[idx] != 1:\n",
    "            idx += 1\n",
    "        context_start = idx\n",
    "        while sequence_ids[idx] == 1:\n",
    "            idx += 1\n",
    "        context_end = idx - 1\n",
    "\n",
    "        # If the answer is not fully inside the context, label it (0, 0)\n",
    "        if offset[context_start][0] > end_char or offset[context_end][1] < start_char:\n",
    "            start_positions.append(0)\n",
    "            end_positions.append(0)\n",
    "        else:\n",
    "            # Otherwise it's the start and end token positions\n",
    "            idx = context_start\n",
    "            while idx <= context_end and offset[idx][0] <= start_char:\n",
    "                idx += 1\n",
    "            start_positions.append(idx - 1)\n",
    "\n",
    "            idx = context_end\n",
    "            while idx >= context_start and offset[idx][1] >= end_char:\n",
    "                idx -= 1\n",
    "            end_positions.append(idx + 1)\n",
    "\n",
    "    inputs[\"start_positions\"] = start_positions\n",
    "    inputs[\"end_positions\"] = end_positions\n",
    "\n",
    "    return inputs"
   ],
   "metadata": {
    "id": "-AhACxxwrhtJ",
    "execution": {
     "iopub.status.busy": "2024-08-11T13:21:56.178403Z",
     "iopub.execute_input": "2024-08-11T13:21:56.178724Z",
     "iopub.status.idle": "2024-08-11T13:21:56.190532Z",
     "shell.execute_reply.started": "2024-08-11T13:21:56.178696Z",
     "shell.execute_reply": "2024-08-11T13:21:56.189312Z"
    },
    "trusted": true,
    "pycharm": {
     "name": "#%%\n"
    }
   },
   "execution_count": 19,
   "outputs": []
  },
  {
   "cell_type": "code",
   "source": [
    "preproc_train = squad_train.map(preprocess_function, batched=True, remove_columns=squad_train.column_names)\n",
    "preproc_test = squad_test.map(preprocess_function, batched=True, remove_columns=squad_test.column_names)\n",
    "\n",
    "preproc_train.set_format(type='torch', columns = preproc_train.column_names)\n",
    "preproc_test.set_format(type='torch', columns = preproc_test.column_names)"
   ],
   "metadata": {
    "id": "p9qj_bGDrj0F",
    "execution": {
     "iopub.status.busy": "2024-08-11T13:21:56.191927Z",
     "iopub.execute_input": "2024-08-11T13:21:56.192570Z",
     "iopub.status.idle": "2024-08-11T13:22:03.653429Z",
     "shell.execute_reply.started": "2024-08-11T13:21:56.192535Z",
     "shell.execute_reply": "2024-08-11T13:22:03.652477Z"
    },
    "trusted": true,
    "pycharm": {
     "name": "#%%\n"
    }
   },
   "execution_count": 20,
   "outputs": [
    {
     "output_type": "display_data",
     "data": {
      "text/plain": "Map:   0%|          | 0/10000 [00:00<?, ? examples/s]",
      "application/vnd.jupyter.widget-view+json": {
       "version_major": 2,
       "version_minor": 0,
       "model_id": "95ea37e6c0614de08e629a68e230eb68"
      }
     },
     "metadata": {}
    },
    {
     "output_type": "display_data",
     "data": {
      "text/plain": "Map:   0%|          | 0/1000 [00:00<?, ? examples/s]",
      "application/vnd.jupyter.widget-view+json": {
       "version_major": 2,
       "version_minor": 0,
       "model_id": "82ef85f1b58b4050b0922587648e5715"
      }
     },
     "metadata": {}
    }
   ]
  },
  {
   "cell_type": "markdown",
   "source": [
    "# Train and eval"
   ],
   "metadata": {
    "id": "JLdZ27B6-i6a",
    "pycharm": {
     "name": "#%% md\n"
    }
   }
  },
  {
   "cell_type": "code",
   "source": [
    "batch_size = 16\n",
    "train_dataloader = DataLoader(preproc_train, batch_size = batch_size, shuffle = True)\n",
    "test_dataloader = DataLoader(preproc_test, batch_size = batch_size, shuffle = False)\n",
    "\n",
    "model = DebertaQA(deberta, config).to(device)\n",
    "\n",
    "optimizer = torch.optim.AdamW(model.parameters(), lr = 0.00001)\n",
    "\n",
    "\n",
    "total_params = sum(p.numel() for p in model.parameters())\n",
    "trainable_params = sum(p.numel() for p in model.parameters() if p.requires_grad)\n",
    "p_trainable_params = round(trainable_params / total_params, 3) * 100\n",
    "\n",
    "print(f\"Total params: {total_params} | Trainable params: {trainable_params} | Percentage of trainable params: {p_trainable_params}%\")"
   ],
   "metadata": {
    "id": "4i_h7SlBeQfV",
    "execution": {
     "iopub.status.busy": "2024-08-11T13:22:03.654540Z",
     "iopub.execute_input": "2024-08-11T13:22:03.654867Z",
     "iopub.status.idle": "2024-08-11T13:22:04.124362Z",
     "shell.execute_reply.started": "2024-08-11T13:22:03.654842Z",
     "shell.execute_reply": "2024-08-11T13:22:04.123400Z"
    },
    "trusted": true,
    "pycharm": {
     "name": "#%%\n"
    }
   },
   "execution_count": 21,
   "outputs": [
    {
     "name": "stdout",
     "text": "Total params: 140372738 | Trainable params: 1771010 | Percentage of trainable params: 1.3%\n",
     "output_type": "stream"
    }
   ]
  },
  {
   "cell_type": "code",
   "source": [
    "def train(model, criterion, optimizer, score, dataloader):\n",
    "  total_loss = 0\n",
    "  total_score = 0\n",
    "\n",
    "  model.train(True)\n",
    "  for batch in tqdm(dataloader):\n",
    "    optimizer.zero_grad()\n",
    "\n",
    "    input_ids = batch['input_ids'].to(device)\n",
    "    token_type_ids = batch['token_type_ids'].to(device)\n",
    "    attention_mask = batch['attention_mask'].to(device)\n",
    "\n",
    "    start_pos = batch['start_positions']\n",
    "    end_pos = batch['end_positions']\n",
    "\n",
    "    start, end = model(input_ids = input_ids,\n",
    "                       token_type_ids = token_type_ids,\n",
    "                       attention_mask = attention_mask)\n",
    "\n",
    "    loss = compute_loss(start.cpu(), end.cpu(),\n",
    "                        start_pos, end_pos, criterion)\n",
    "\n",
    "    loss.backward()\n",
    "    optimizer.step()\n",
    "    total_loss += loss.item()\n",
    "\n",
    "    total_score += compute_score(input_ids.cpu(),  start.cpu(), end.cpu(),\n",
    "                                   start_pos, end_pos, score)\n",
    "\n",
    "  return total_loss/len(dataloader), total_score/len(dataloader)"
   ],
   "metadata": {
    "id": "PryueAoGyE4z",
    "execution": {
     "iopub.status.busy": "2024-08-11T13:22:04.125509Z",
     "iopub.execute_input": "2024-08-11T13:22:04.126036Z",
     "iopub.status.idle": "2024-08-11T13:22:04.134765Z",
     "shell.execute_reply.started": "2024-08-11T13:22:04.126006Z",
     "shell.execute_reply": "2024-08-11T13:22:04.133752Z"
    },
    "trusted": true,
    "pycharm": {
     "name": "#%%\n"
    }
   },
   "execution_count": 22,
   "outputs": []
  },
  {
   "cell_type": "code",
   "source": [
    "def eval(model, criterion, score, dataloader):\n",
    "  total_loss = 0\n",
    "  total_score = 0\n",
    "\n",
    "  model.eval()\n",
    "  with torch.no_grad():\n",
    "    for batch in tqdm(dataloader):\n",
    "\n",
    "      input_ids = batch['input_ids'].to(device)\n",
    "      token_type_ids = batch['token_type_ids'].to(device)\n",
    "      attention_mask = batch['attention_mask'].to(device)\n",
    "\n",
    "      start_pos = batch['start_positions']\n",
    "      end_pos = batch['end_positions']\n",
    "\n",
    "      start, end = model(input_ids = input_ids,\n",
    "                       token_type_ids = token_type_ids,\n",
    "                       attention_mask = attention_mask)\n",
    "\n",
    "      total_loss += compute_loss(start.cpu(), end.cpu(),\n",
    "                                 start_pos, end_pos, criterion).item()\n",
    "\n",
    "      total_score += compute_score(input_ids.cpu(),  start.cpu(), end.cpu(),\n",
    "                                   start_pos, end_pos, score)\n",
    "\n",
    "  return total_loss/len(dataloader), total_score/len(dataloader)"
   ],
   "metadata": {
    "id": "tKq7CuLfNP6i",
    "_kg_hide-input": false,
    "execution": {
     "iopub.status.busy": "2024-08-11T13:22:04.136221Z",
     "iopub.execute_input": "2024-08-11T13:22:04.136610Z",
     "iopub.status.idle": "2024-08-11T13:22:04.147072Z",
     "shell.execute_reply.started": "2024-08-11T13:22:04.136582Z",
     "shell.execute_reply": "2024-08-11T13:22:04.146081Z"
    },
    "trusted": true,
    "pycharm": {
     "name": "#%%\n"
    }
   },
   "execution_count": 23,
   "outputs": []
  },
  {
   "cell_type": "code",
   "source": [
    "#BEFORE TRAINING\n",
    "\n",
    "train_loss, train_score = eval(model, BCEWithLogits, f1_score, train_dataloader)\n",
    "test_loss, test_score = eval(model, BCEWithLogits, f1_score, test_dataloader)\n",
    "\n",
    "loss_history_train = [train_loss]\n",
    "loss_history_test = [test_loss]\n",
    "\n",
    "score_history_train = [round(train_score * 100, 2)]\n",
    "score_history_test = [round(test_score * 100, 2)]"
   ],
   "metadata": {
    "id": "kghR2DaaPozD",
    "execution": {
     "iopub.status.busy": "2024-08-11T13:22:04.148508Z",
     "iopub.execute_input": "2024-08-11T13:22:04.148955Z",
     "iopub.status.idle": "2024-08-11T13:25:57.445503Z",
     "shell.execute_reply.started": "2024-08-11T13:22:04.148920Z",
     "shell.execute_reply": "2024-08-11T13:25:57.444562Z"
    },
    "trusted": true,
    "pycharm": {
     "name": "#%%\n"
    }
   },
   "execution_count": 24,
   "outputs": [
    {
     "name": "stderr",
     "text": "100%|██████████| 625/625 [03:32<00:00,  2.95it/s]\n100%|██████████| 63/63 [00:21<00:00,  2.97it/s]\n",
     "output_type": "stream"
    }
   ]
  },
  {
   "cell_type": "code",
   "source": [
    "num_epoch = 15\n",
    "\n",
    "for epoch in range(1, num_epoch + 1):\n",
    "  train_loss, train_score = train(model, BCEWithLogits, optimizer, f1_score, train_dataloader)\n",
    "  test_loss, test_score = eval(model, BCEWithLogits, f1_score, test_dataloader)\n",
    "\n",
    "  loss_history_train.append(train_loss)\n",
    "  loss_history_test.append(test_loss)\n",
    "\n",
    "  score_history_train.append(round(train_score * 100, 2))\n",
    "  score_history_test.append(round(test_score * 100, 2))\n",
    "\n",
    "  clear_output(True)\n",
    "  plt.figure(figsize=(16, 9))\n",
    "  plt.subplot(2, 2, 1)\n",
    "  plt.title(\"Loss history\")\n",
    "  plt.ylabel(\"loss\")\n",
    "  plt.xlabel(\"epoch\")\n",
    "  plt.plot(list(range(epoch+1)), loss_history_test, label = \"test\")\n",
    "  plt.plot(list(range(epoch+1)), loss_history_train, label = \"train\")\n",
    "  plt.gca().xaxis.set_major_locator(MaxNLocator(integer=True))\n",
    "  plt.legend()\n",
    "  plt.grid()\n",
    "\n",
    "  plt.subplot(2, 2, 2)\n",
    "  plt.title(\"f1 score history\")\n",
    "  plt.ylabel(\"f1 score(%)\")\n",
    "  plt.xlabel(\"epoch\")\n",
    "  plt.plot(list(range(epoch+1)), score_history_test, label = \"test\")\n",
    "  plt.plot(list(range(epoch+1)), score_history_train, label = \"train\")\n",
    "  plt.gca().xaxis.set_major_locator(MaxNLocator(integer=True))\n",
    "  plt.legend() \n",
    "  plt.grid()\n",
    "    \n",
    "  plt.show()"
   ],
   "metadata": {
    "id": "WS7A3Uaj1Ktm",
    "execution": {
     "iopub.status.busy": "2024-08-11T13:25:57.446942Z",
     "iopub.execute_input": "2024-08-11T13:25:57.447614Z",
     "iopub.status.idle": "2024-08-11T15:24:43.837701Z",
     "shell.execute_reply.started": "2024-08-11T13:25:57.447572Z",
     "shell.execute_reply": "2024-08-11T15:24:43.836709Z"
    },
    "trusted": true,
    "pycharm": {
     "name": "#%%\n"
    }
   },
   "execution_count": 25,
   "outputs": [
    {
     "output_type": "display_data",
     "data": {
      "text/plain": "<Figure size 1600x900 with 2 Axes>",
      "image/png": "[encoded data removed]"
     },
     "metadata": {}
    }
   ]
  },
  {
   "cell_type": "code",
   "source": [
    "print(f\"Final test f1 score: {score_history_test[-1]}%\")"
   ],
   "metadata": {
    "execution": {
     "iopub.status.busy": "2024-08-11T15:25:01.826766Z",
     "iopub.execute_input": "2024-08-11T15:25:01.827670Z",
     "iopub.status.idle": "2024-08-11T15:25:01.832952Z",
     "shell.execute_reply.started": "2024-08-11T15:25:01.827636Z",
     "shell.execute_reply": "2024-08-11T15:25:01.831744Z"
    },
    "trusted": true,
    "pycharm": {
     "name": "#%%\n"
    }
   },
   "execution_count": 26,
   "outputs": [
    {
     "name": "stdout",
     "text": "Final test f1 score: 81.22%\n",
     "output_type": "stream"
    }
   ]
  },
  {
   "cell_type": "code",
   "source": [
    "torch.save(model.state_dict(), 'deberta_qa_weights.pth')"
   ],
   "metadata": {
    "id": "UfnVyIr13VBu",
    "execution": {
     "iopub.status.busy": "2024-08-11T15:25:05.336927Z",
     "iopub.execute_input": "2024-08-11T15:25:05.337583Z",
     "iopub.status.idle": "2024-08-11T15:25:06.191640Z",
     "shell.execute_reply.started": "2024-08-11T15:25:05.337550Z",
     "shell.execute_reply": "2024-08-11T15:25:06.190805Z"
    },
    "trusted": true,
    "pycharm": {
     "name": "#%%\n"
    }
   },
   "execution_count": 27,
   "outputs": []
  },
  {
   "cell_type": "code",
   "source": [
    "from IPython.display import FileLink\n",
    "FileLink('deberta_qa_weights.pth')"
   ],
   "metadata": {
    "id": "emh5m48spmgq",
    "execution": {
     "iopub.status.busy": "2024-08-11T15:25:07.515755Z",
     "iopub.execute_input": "2024-08-11T15:25:07.516170Z",
     "iopub.status.idle": "2024-08-11T15:25:07.523223Z",
     "shell.execute_reply.started": "2024-08-11T15:25:07.516137Z",
     "shell.execute_reply": "2024-08-11T15:25:07.522146Z"
    },
    "trusted": true,
    "pycharm": {
     "name": "#%%\n"
    }
   },
   "execution_count": 28,
   "outputs": [
    {
     "execution_count": 28,
     "output_type": "execute_result",
     "data": {
      "text/plain": "/kaggle/working/deberta_qa_weights.pth",
      "text/html": "<a href='deberta_qa_weights.pth' target='_blank'>deberta_qa_weights.pth</a><br>"
     },
     "metadata": {}
    }
   ]
  },
  {
   "cell_type": "markdown",
   "source": [
    "# Q&A Examples"
   ],
   "metadata": {
    "id": "UK7_w97U-tyN",
    "pycharm": {
     "name": "#%% md\n"
    }
   }
  },
  {
   "cell_type": "code",
   "source": [
    "def answer_the_question(model, input_ids, token_type_ids, attention_mask, start_pos, end_pos, score):\n",
    "\n",
    "    model.eval()\n",
    "\n",
    "    start, end = model(input_ids = input_ids,\n",
    "                       token_type_ids = token_type_ids,\n",
    "                       attention_mask = attention_mask)\n",
    "\n",
    "    start_pred = torch.argmax(start, dim = -1).squeeze(0)\n",
    "    end_pred = torch.argmax(end, dim = -1).squeeze(0)\n",
    "\n",
    "    predict_ids = []\n",
    "    gt_ids = []\n",
    "    final_scores = []\n",
    "\n",
    "    for i in range(len(input_ids)):\n",
    "        predict_ids_i = input_ids[i][start_pred[i]:end_pred[i]+1]\n",
    "        gt_ids_i = input_ids[i][start_pos[i]:end_pos[i]+1]\n",
    "        score_i = score(predict_ids_i.tolist(), gt_ids_i.tolist())\n",
    "\n",
    "        predict_ids.append(predict_ids_i)\n",
    "        gt_ids.append(gt_ids_i)\n",
    "        final_scores.append(score_i)\n",
    "\n",
    "    return predict_ids, gt_ids, final_scores"
   ],
   "metadata": {
    "id": "5il-CGRC3VBu",
    "execution": {
     "iopub.status.busy": "2024-08-11T15:25:26.046315Z",
     "iopub.execute_input": "2024-08-11T15:25:26.046657Z",
     "iopub.status.idle": "2024-08-11T15:25:26.054730Z",
     "shell.execute_reply.started": "2024-08-11T15:25:26.046631Z",
     "shell.execute_reply": "2024-08-11T15:25:26.053698Z"
    },
    "trusted": true,
    "pycharm": {
     "name": "#%%\n"
    }
   },
   "execution_count": 29,
   "outputs": []
  },
  {
   "cell_type": "code",
   "source": [
    "examples = preproc_test[256:258]\n",
    "\n",
    "input_ids = examples['input_ids'].to(device)\n",
    "token_type_ids = examples['token_type_ids'].to(device)\n",
    "attention_mask = examples['attention_mask'].to(device)\n",
    "\n",
    "start_pos = examples['start_positions']\n",
    "end_pos = examples['end_positions']\n",
    "\n",
    "pred_ans, gt_ans, scores = answer_the_question(model, input_ids, token_type_ids, attention_mask, start_pos, end_pos, f1_score)\n",
    "\n",
    "for i in range(len(input_ids)):\n",
    "    print(f\"Text: {tokenizer.decode(input_ids[i])} \\n\")\n",
    "    print(f\"Predicted answer: {tokenizer.decode(pred_ans[i])} \\n\")\n",
    "    print(f\"Ground truth answer: {tokenizer.decode(gt_ans[i])} \\n\")\n",
    "    print(f\"F1 score: {round(scores[i] * 100, 2)} %\")\n",
    "    print(f\"-----------------------------------------\")"
   ],
   "metadata": {
    "id": "II5llT1P3VBv",
    "execution": {
     "iopub.status.busy": "2024-08-11T15:27:16.221256Z",
     "iopub.execute_input": "2024-08-11T15:27:16.221675Z",
     "iopub.status.idle": "2024-08-11T15:27:16.296529Z",
     "shell.execute_reply.started": "2024-08-11T15:27:16.221642Z",
     "shell.execute_reply": "2024-08-11T15:27:16.295517Z"
    },
    "trusted": true,
    "pycharm": {
     "name": "#%%\n"
    }
   },
   "execution_count": 36,
   "outputs": [
    {
     "name": "stdout",
     "text": "Text: [CLS]What is the name of the Bronco's head coach, who was hired after John Fox?[SEP]Following their loss in the divisional round of the previous season's playoffs, the Denver Broncos underwent numerous coaching changes, including a mutual parting with head coach John Fox (who had won four divisional championships in his four years as Broncos head coach), and the hiring of Gary Kubiak as the new head coach. Under Kubiak, the Broncos planned to install a run-oriented offense with zone blocking to blend in with quarterback Peyton Manning's shotgun passing skills, but struggled with numerous changes and injuries to the offensive line, as well as Manning having his worst statistical season since his rookie year with the Indianapolis Colts in 1998, due to a plantar fasciitis injury in his heel that he had suffered since the summer, and the simple fact that Manning was getting old, as he turned 39 in the 2015 off-season. Although the team had a 7–0 start, Manning led the NFL in interceptions. In week 10, Manning suffered a partial tear of the plantar fasciitis in his left foot. He set the NFL's all-time record for career passing yards in this game, but was benched after throwing four interceptions in favor of backup quarterback Brock Osweiler, who took over as the starter for most of the remainder of the regular season. Osweiler was injured, however, leading to Manning's return during the Week 17 regular season finale, where the Broncos were losing 13–7 against the 4–11 San Diego Chargers, resulting in Manning re-claiming the starting quarterback position for the playoffs by leading the team to a key 27–20 win that enabled the team to clinch the number one overall AFC seed. Under defensive coordinator Wade Phillips, the Broncos' defense ranked number one in total yards allowed, passing yards allowed and sacks, and like the previous three seasons,[SEP] \n\nPredicted answer:  Gary Kubiak \n\nGround truth answer:  Gary Kubiak \n\nF1 score: 100.0 %\n-----------------------------------------\nText: [CLS]What was the first team Peyton Manning began playing for?[SEP]Following their loss in the divisional round of the previous season's playoffs, the Denver Broncos underwent numerous coaching changes, including a mutual parting with head coach John Fox (who had won four divisional championships in his four years as Broncos head coach), and the hiring of Gary Kubiak as the new head coach. Under Kubiak, the Broncos planned to install a run-oriented offense with zone blocking to blend in with quarterback Peyton Manning's shotgun passing skills, but struggled with numerous changes and injuries to the offensive line, as well as Manning having his worst statistical season since his rookie year with the Indianapolis Colts in 1998, due to a plantar fasciitis injury in his heel that he had suffered since the summer, and the simple fact that Manning was getting old, as he turned 39 in the 2015 off-season. Although the team had a 7–0 start, Manning led the NFL in interceptions. In week 10, Manning suffered a partial tear of the plantar fasciitis in his left foot. He set the NFL's all-time record for career passing yards in this game, but was benched after throwing four interceptions in favor of backup quarterback Brock Osweiler, who took over as the starter for most of the remainder of the regular season. Osweiler was injured, however, leading to Manning's return during the Week 17 regular season finale, where the Broncos were losing 13–7 against the 4–11 San Diego Chargers, resulting in Manning re-claiming the starting quarterback position for the playoffs by leading the team to a key 27–20 win that enabled the team to clinch the number one overall AFC seed. Under defensive coordinator Wade Phillips, the Broncos' defense ranked number one in total yards allowed, passing yards allowed and sacks, and like the previous three seasons, the team has continued to set numerous individual[SEP] \n\nPredicted answer:  Denver Broncos \n\nGround truth answer:  Indianapolis Colts \n\nF1 score: 0.0 %\n-----------------------------------------\n",
     "output_type": "stream"
    }
   ]
  }
 ]
}